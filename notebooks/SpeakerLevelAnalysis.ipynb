{
 "cells": [
  {
   "cell_type": "code",
   "execution_count": 62,
   "metadata": {},
   "outputs": [],
   "source": [
    "\"\"\"\n",
    "Preamble for most code and jupyter notebooks\n",
    "@author: tobinsouth\n",
    "@notebook date: Dec 5, 2021\n",
    "\"\"\"\n",
    "\n",
    "import numpy as np, pandas as pd, matplotlib.pyplot as plt, matplotlib as mpl, seaborn as sns\n",
    "import math, string, re, pickle, json, os, sys, datetime, itertools\n",
    "from collections import Counter\n",
    "from tqdm import tqdm\n",
    "\n",
    "# Set panda's options\n",
    "pd.set_option(\"display.max_rows\", 50)\n",
    "pd.set_option(\"display.max_columns\", 120)\n",
    "\n",
    "# Better graphics\n",
    "from matplotlib_inline.backend_inline import set_matplotlib_formats\n",
    "set_matplotlib_formats('retina')\n",
    "plt.style.use('seaborn-poster')"
   ]
  },
  {
   "cell_type": "code",
   "execution_count": 63,
   "metadata": {},
   "outputs": [],
   "source": [
    "import spacy\n",
    "nlp = spacy.load(\"es_core_news_sm\")"
   ]
  },
  {
   "cell_type": "code",
   "execution_count": 64,
   "metadata": {},
   "outputs": [],
   "source": [
    "from glob import glob\n",
    "transcript_path = \"../data/transcriptions\"\n",
    "transcript_files = glob(transcript_path + \"/*.json\")"
   ]
  },
  {
   "cell_type": "code",
   "execution_count": 65,
   "metadata": {},
   "outputs": [],
   "source": [
    "transcripts, transcripts_df = {}, {}\n",
    "\n",
    "for file in transcript_files:\n",
    "    with open(file, \"r\") as f:\n",
    "        filename = file.split(\"/\")[-1].split(\".\")[0]\n",
    "        transcript = json.load(f)\n",
    "        transcripts[filename] = transcript\n",
    "        transcript_df = pd.DataFrame(transcript.values())\n",
    "        transcripts_df[filename] = transcript_df\n",
    "    "
   ]
  },
  {
   "cell_type": "code",
   "execution_count": 66,
   "metadata": {},
   "outputs": [],
   "source": [
    "results = []\n",
    "for file, transcript_df in transcripts_df.items():\n",
    "    if len(transcript_df) > 100:\n",
    "        speaker_grouped = transcript_df.groupby('speaker_id').apply(lambda d: \" \".join(d['transcription']))\n",
    "        number_of_speakers = len(speaker_grouped)\n",
    "        word_counts = speaker_grouped.str.split().apply(len)\n",
    "        speaking_inequality = word_counts.max() / word_counts.sum()\n",
    "        tutor_words = speaker_grouped.iloc[word_counts.argmax()] # Limitation: there's no guarantee that the tutor is the one with the most words\n",
    "        tutor_doc = nlp(tutor_words)\n",
    "        person_entity_counts = len([ent for ent in tutor_doc.ents if ent.label_ == 'PER'])\n",
    "        pronoun_counts = len([w for w in tutor_doc if w.pos_ in ['PRON', 'PROPN']])\n",
    "        numeric_counts = len([t for t in tutor_doc.text.split() if t.isnumeric()])\n",
    "        non_stop_counts = Counter([t.text for t in tutor_doc if t.is_stop == False and t.is_punct == False])\n",
    "        word_sum = lambda x: sum([c for t,c in x])\n",
    "        common_ratio = word_sum(non_stop_counts.most_common(100))/word_sum(non_stop_counts.most_common())\n",
    "        results.append([file, number_of_speakers, speaking_inequality, person_entity_counts, pronoun_counts, numeric_counts, common_ratio])"
   ]
  },
  {
   "cell_type": "code",
   "execution_count": 60,
   "metadata": {},
   "outputs": [],
   "source": [
    "diarized_results = pd.DataFrame(results, columns = ['file', 'number_of_speakers', 'speaking_inequality', 'tutor_person_entity_counts', 'tutor_pronoun_counts', 'tutor_numeric_counts', 'tutor_common_ratio'])\n",
    "diarized_results.to_csv(\"../data/diarized_results.csv\", index=False)"
   ]
  },
  {
   "cell_type": "code",
   "execution_count": null,
   "metadata": {},
   "outputs": [],
   "source": []
  }
 ],
 "metadata": {
  "interpreter": {
   "hash": "c854730bd06fef4a089243d2501fb3b7e98cc6cf4ccc2cce9e8cdf48ee542ef6"
  },
  "kernelspec": {
   "display_name": "Python 3.8.9 64-bit",
   "language": "python",
   "name": "python3"
  },
  "language_info": {
   "codemirror_mode": {
    "name": "ipython",
    "version": 3
   },
   "file_extension": ".py",
   "mimetype": "text/x-python",
   "name": "python",
   "nbconvert_exporter": "python",
   "pygments_lexer": "ipython3",
   "version": "3.8.9"
  },
  "orig_nbformat": 4
 },
 "nbformat": 4,
 "nbformat_minor": 2
}
