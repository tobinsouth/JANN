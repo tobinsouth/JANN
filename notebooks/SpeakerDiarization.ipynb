{
 "cells": [
  {
   "cell_type": "code",
   "execution_count": 1,
   "metadata": {},
   "outputs": [],
   "source": [
    "\"\"\"\n",
    "Preamble for most code and jupyter notebooks\n",
    "@author: tobinsouth\n",
    "@notebook date: 12 Nov 2021\n",
    "\"\"\"\n",
    "\n",
    "import numpy as np, pandas as pd, matplotlib.pyplot as plt, matplotlib as mpl, seaborn as sns\n",
    "import math, string, re, pickle, json, os, sys, datetime, itertools\n",
    "from collections import Counter\n",
    "from tqdm import tqdm\n",
    "\n",
    "# Set panda's options\n",
    "pd.set_option(\"display.max_rows\", 50)\n",
    "pd.set_option(\"display.max_columns\", 120)\n",
    "\n",
    "# Better graphics\n",
    "from matplotlib_inline.backend_inline import set_matplotlib_formats\n",
    "set_matplotlib_formats('retina')\n",
    "plt.style.use('seaborn-poster')"
   ]
  },
  {
   "cell_type": "code",
   "execution_count": null,
   "metadata": {},
   "outputs": [],
   "source": [
    "from pyannote.audio.pipelines import VoiceActivityDetection\n",
    "pipeline = VoiceActivityDetection(segmentation=\"pyannote/segmentation\")\n",
    "HYPER_PARAMETERS = {\n",
    "  # onset/offset activation thresholds\n",
    "  \"onset\": 0.1, \"offset\": 0.1,\n",
    "  # remove speech regions shorter than that many seconds.\n",
    "  \"min_duration_on\": 0.1,\n",
    "  # fill non-speech regions shorter than that many seconds.\n",
    "  \"min_duration_off\": 0.1\n",
    "}\n",
    "pipeline.instantiate(HYPER_PARAMETERS)\n",
    "vad = pipeline(\"/u/tsouth/projects/educationText/data/audiofiles/7184_5497_2021-05-06_My_AudioRecord[9].wav\")\n",
    "# `vad` is a pyannote.core.Annotation instance containing speech regions"
   ]
  },
  {
   "cell_type": "code",
   "execution_count": 1,
   "metadata": {},
   "outputs": [
    {
     "name": "stderr",
     "output_type": "stream",
     "text": [
      "/u/tsouth/python/lib/python3.8/site-packages/torchaudio/backend/utils.py:46: UserWarning: \"torchaudio.USE_SOUNDFILE_LEGACY_INTERFACE\" flag is deprecated and will be removed in 0.9.0. Please remove the use of flag.\n",
      "  warnings.warn(\n"
     ]
    }
   ],
   "source": [
    "from pyannote.audio import Inference\n",
    "inference = Inference(\"pyannote/segmentation\")\n",
    "segmentation = inference(\"/u/tsouth/projects/educationText/data/audiofiles/7184_5497_2021-05-06_My_AudioRecord[9].wav\")"
   ]
  },
  {
   "cell_type": "code",
   "execution_count": 35,
   "metadata": {},
   "outputs": [],
   "source": [
    "from pyannote.audio.pipelines import OverlappedSpeechDetection\n",
    "pipeline = OverlappedSpeechDetection(segmentation=\"pyannote/segmentation\")\n",
    "HYPER_PARAMETERS = {\n",
    "  # onset/offset activation thresholds\n",
    "  \"onset\": 0.01, \"offset\": 0.1,\n",
    "  # remove speech regions shorter than that many seconds.\n",
    "  \"min_duration_on\": 0.0,\n",
    "  # fill non-speech regions shorter than that many seconds.\n",
    "  \"min_duration_off\": 0.0\n",
    "}\n",
    "pipeline.instantiate(HYPER_PARAMETERS)\n",
    "osd = pipeline(\"/u/tsouth/projects/educationText/data/audiofiles/414_5703__3_tutoria1Sec.wav\")"
   ]
  },
  {
   "cell_type": "code",
   "execution_count": 36,
   "metadata": {},
   "outputs": [
    {
     "data": {
      "image/png": "[encoded data removed]",
      "text/plain": [
       "<pyannote.core.annotation.Annotation at 0x7f907894ea00>"
      ]
     },
     "execution_count": 36,
     "metadata": {},
     "output_type": "execute_result"
    }
   ],
   "source": [
    "osd"
   ]
  },
  {
   "cell_type": "code",
   "execution_count": 39,
   "metadata": {},
   "outputs": [],
   "source": [
    "from pyannote.audio.pipelines import SpeakerDiarization"
   ]
  },
  {
   "cell_type": "code",
   "execution_count": 1,
   "metadata": {},
   "outputs": [],
   "source": [
    "import numpy as np\n",
    "from pydiar.models import BinaryKeyDiarizationModel, Segment\n",
    "from pydiar.util.misc import optimize_segments\n",
    "from pydub import AudioSegment\n",
    "\n",
    "INPUT_FILE = \"/u/tsouth/projects/educationText/data/audiofiles/7184_5497_2021-05-06_My_AudioRecord[9].wav\"\n",
    "\n",
    "diarization_model = BinaryKeyDiarizationModel()\n",
    "\n",
    "\n",
    "audio = AudioSegment.from_wav(INPUT_FILE).set_frame_rate(32000).set_channels(1)\n",
    "segments = diarization_model.diarize(32000, np.array(audio.get_array_of_samples()))\n",
    "optimized_segments = optimize_segments(segments)"
   ]
  },
  {
   "cell_type": "code",
   "execution_count": 19,
   "metadata": {},
   "outputs": [],
   "source": [
    "audio_segments = []\n",
    "for seg in optimized_segments:\n",
    "    chops = int(np.ceil(seg.length / 119))\n",
    "    for i in range(chops):\n",
    "        length = seg.length if chops == 1 else (119 if i < chops else seg.length - (chops - 1) * 119)\n",
    "        audio_segments.append({'start': seg.start + i*119, 'len': length, 'end': seg.start + length + i*119, 'speaker_id': int(seg.speaker_id)})    "
   ]
  },
  {
   "cell_type": "code",
   "execution_count": 12,
   "metadata": {},
   "outputs": [
    {
     "data": {
      "image/png": "[encoded data removed]",
      "text/plain": [
       "<Figure size 720x144 with 1 Axes>"
      ]
     },
     "metadata": {
      "needs_background": "light"
     },
     "output_type": "display_data"
    }
   ],
   "source": [
    "import matplotlib.pyplot as plt, matplotlib\n",
    "fig, ax = plt.subplots(figsize=(10, 2))\n",
    "ax.set_title('Diarization of a 30 minute class recording')\n",
    "ax.set_xlabel('Time (s)')\n",
    "ax.set_ylabel('Speaker')\n",
    "\n",
    "cmap = {0: 'red', 1: 'blue', 2: 'green', 3: 'purple', 4: 'black', 5: 'orange', 8: 'pink', 9: 'gray'}\n",
    "for segment in optimized_segments:\n",
    "    y = segment.speaker_id\n",
    "    plt.plot(segment.start, y, segment.start+segment.length, y, marker = '|', color=cmap[y])\n",
    "\n",
    "ax.set_yticks([1,2,3])\n",
    "plt.tight_layout()\n",
    "plt.savefig('../figs/diarization.png', dpi = 500)"
   ]
  },
  {
   "cell_type": "code",
   "execution_count": null,
   "metadata": {},
   "outputs": [],
   "source": []
  }
 ],
 "metadata": {
  "kernelspec": {
   "display_name": "Python 3 (ipykernel)",
   "language": "python",
   "name": "python3"
  },
  "language_info": {
   "codemirror_mode": {
    "name": "ipython",
    "version": 3
   },
   "file_extension": ".py",
   "mimetype": "text/x-python",
   "name": "python",
   "nbconvert_exporter": "python",
   "pygments_lexer": "ipython3",
   "version": "3.8.9"
  },
  "orig_nbformat": 4
 },
 "nbformat": 4,
 "nbformat_minor": 2
}
