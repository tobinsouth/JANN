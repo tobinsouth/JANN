{
 "cells": [
  {
   "cell_type": "code",
   "execution_count": 1,
   "metadata": {},
   "outputs": [],
   "source": [
    "import pandas as pd\n",
    "import os "
   ]
  },
  {
   "cell_type": "code",
   "execution_count": 31,
   "metadata": {},
   "outputs": [],
   "source": [
    "from glob import glob"
   ]
  },
  {
   "cell_type": "code",
   "execution_count": 36,
   "metadata": {},
   "outputs": [
    {
     "data": {
      "text/plain": [
       "431"
      ]
     },
     "execution_count": 36,
     "metadata": {},
     "output_type": "execute_result"
    }
   ],
   "source": [
    "len(glob(\"../data/audiofiles/*.wav\"))"
   ]
  },
  {
   "cell_type": "code",
   "execution_count": 18,
   "metadata": {},
   "outputs": [],
   "source": [
    "from os import walk\n",
    "\n",
    "f = []\n",
    "for (dirpath, dirnames, filenames) in walk(\"../data/audiofiles/\"):\n",
    "    f.extend([f.replace(\".wav\", \".mp4\") for f in filenames])\n",
    "    #print(f.extend(filenames))\n",
    "filenames =f"
   ]
  },
  {
   "cell_type": "code",
   "execution_count": 43,
   "metadata": {},
   "outputs": [],
   "source": [
    "# Information about recordings with the recording ID and the original filenames\n",
    "grabs=pd.read_csv(\"../data/grabs_v1.csv\")\n",
    "grabs2=pd.read_csv(\"../data/grabs_v2.csv\")"
   ]
  },
  {
   "cell_type": "code",
   "execution_count": 44,
   "metadata": {},
   "outputs": [],
   "source": [
    "def find_file(fil, grabs, grabs2):\n",
    "    try:\n",
    "        id_grab=int(fil.split(\"_\")[0])\n",
    "    except ValueError:\n",
    "        return None\n",
    "    filt=grabs[grabs.id_grabacion==id_grab]\n",
    "    cand1=\"Not found\"\n",
    "    cand2=\"Not found\"\n",
    "    \n",
    "    if len(filt)>0:\n",
    "        cand1=\".\".join(filt.iloc[0][\"nombre_original\"].split(\".\")[:-1])\n",
    "        prefijo1=filt.iloc[0][\"prefijo\"]\n",
    "    filt=grabs2[grabs2.id_grabacion==id_grab]\n",
    "    if len(filt)>0:\n",
    "        cand2=\".\".join(filt.iloc[0][\"nombre_original\"].split(\".\")[:-1])\n",
    "        prefijo2=filt.iloc[0][\"prefijo\"]\n",
    "    if len(cand2)<2: cand2=\"Not found\"\n",
    "    if len(cand1)<2: cand1=\"Not found\"\n",
    "    filf=fil\n",
    "    #print(filf)\n",
    "    #print(cand1)\n",
    "    #print(cand2)\n",
    "    #print(filf.find(cand1))\n",
    "    #print(filf.find(cand2))\n",
    "    exito=0\n",
    "    if filf.find(cand1)>=0 and filf.find(cand2)==-1:\n",
    "        exito=1\n",
    "        return prefijo1\n",
    "    if filf.find(cand1)==-1 and filf.find(cand2)>=0:\n",
    "        exito=1\n",
    "        return prefijo2\n",
    "        \n",
    "    #print(exito)"
   ]
  },
  {
   "cell_type": "code",
   "execution_count": 23,
   "metadata": {
    "scrolled": true
   },
   "outputs": [],
   "source": [
    "dict_files={}\n",
    "for f in filenames:\n",
    "    dict_files[f]=find_file(f, grabs, grabs2)"
   ]
  },
  {
   "cell_type": "code",
   "execution_count": 45,
   "metadata": {},
   "outputs": [
    {
     "data": {
      "text/plain": [
       "435"
      ]
     },
     "execution_count": 45,
     "metadata": {},
     "output_type": "execute_result"
    }
   ],
   "source": [
    "len(dict_files)"
   ]
  },
  {
   "cell_type": "code",
   "execution_count": 49,
   "metadata": {},
   "outputs": [
    {
     "data": {
      "text/plain": [
       "430"
      ]
     },
     "execution_count": 49,
     "metadata": {},
     "output_type": "execute_result"
    }
   ],
   "source": [
    "len([f for f, k in dict_files.items() if k])"
   ]
  },
  {
   "cell_type": "code",
   "execution_count": 25,
   "metadata": {},
   "outputs": [
    {
     "name": "stderr",
     "output_type": "stream",
     "text": [
      "/u/tsouth/python/lib/python3.8/site-packages/IPython/core/interactiveshell.py:3441: DtypeWarning: Columns (132) have mixed types.Specify dtype option on import or set low_memory=False.\n",
      "  exec(code_obj, self.user_global_ns, self.user_ns)\n"
     ]
    }
   ],
   "source": [
    "bt=pd.read_csv(\"../data/base_todos_2.csv\")"
   ]
  },
  {
   "cell_type": "code",
   "execution_count": 59,
   "metadata": {
    "scrolled": true
   },
   "outputs": [
    {
     "data": {
      "text/plain": [
       "'Unnamed: 0, Unnamed: 0.1, id_estudiante, tel_mas_confiable, id_tutor, prefijo, completado, completo_mate, completo_bienestar, completo_opinion, completo_español, completo_español_inicial, completo_mate_inicial, tratamiento, score_mat_inicial_x, score_mat_inicial_abiertas_x, score_mat_inicial_mult_x, grado_x, score_mat_inicial_y, score_mat_inicial_abiertas_y, score_mat_inicial_mult_y, grado_y, score_mat_inicial, score_mat_inicial_abiertas, score_mat_inicial_mult, grado, score_mat_final, score_mat_final_abiertas, score_cree, score_mat_final_mult, Unnamed: 0_x, score_esp_final, Por favor escribe un párrafo sobre quién es tu modelo a seguir y porque.\\xa0, Por favor escribe un par sobre que quieres hacer cuando seas grande., Por favor escribe un par sobre que quieres hacer cuando seas grande.\\nPor ejemplo\\nCuando sea grande voy a tener un gato y un perro y voy a vivir en la ciudad de Tijuana cerca de mis papás y también voy a estudiar la carrera de Computación porque quiero ayudar a mi papá con su negocio.\\xa0\\nVoy a jugar futbol todos los domingos con mis amigos y voy a escribir un libro sobre los perros y gatos.\\xa0, score_esp_inicial, score_pca_final, score_pred_1pl_final, score_pca_inicial, score_pred_1pl_inicial, closeness, instrumental_help, conflict, Unnamed: 0_y, Status_baseline, Género_baseline, Fecha de nacimiento_baseline, inicial_alegria_score, inicial_apreciacion_escuela_score, inicial_autoestima_score, inicial_autonomia_score, inicial_conciencia_emoc_score, inicial_creencias_previas_score, inicial_empatia_score, inicial_familia_score, inicial_gratitud_score, inicial_growth_mindset_score, inicial_locus_control_score, inicial_resiliencia_score, inicial_soledad_covid_score, Unnamed: 0_x.1, Status_endline, Date submitted_endline, Date started_endline, Género_endline, Fecha de nacimiento_endline, Ingenieria_endline, Matemáticas_endline, Sociología_endline, Agricultura_endline, Computación_endline, Literatura_endline, Derecho_endline, Medicina_endline, Sexo_endline, final_alegria_score, final_apreciacion_escuela_score, final_autoestima_score, final_autonomia_score, final_conciencia_emoc_score, final_creencias_previas_score, final_empatia_score, final_familia_score, final_gratitud_score, final_growth_mindset_score, final_locus_control_score, final_resiliencia_score, final_soledad_covid_score, Unnamed: 0_y.1, parent_women, single, owns_computer, years_of_education_parent, running_water, employed, indigenous_language, preschool, repeat_grade, num_books, room_for_student, month_access_internet, out_school_help, family_member_university, family_lived_in_US, speaks_english, wifi, tablet, cellphone, data, electricity, stove, draining, firm_floor, washing_machine, phone, Internet, tv, car, hw_computer, desk, wood_stove, id_padre, Código postal, ¿Cómo percibes la educación a distancia que recibe tu hija(o)?, num_children, docente_id, Unnamed: 0.1.1, tutor_telefono, tutor_escuela, tutor_carrera, tutor_r_escuela, tutor_r_carrera, tutor_promedio, tutor_nombre, tutor_appellidos, tutor_wifi, tutor_computer, tutor_cellphoneAndData, tutor_baja, tutor_num_groups, t_women, P2P, SEL, Math, MathPCA, std_pred_1pl_final, std_pca_inicial, std_pred_1pl_inicial, std_mat_inicial, MathScore, MathOpen, std_mat_inicial_abiertas, std_mat_inicial_mult, std_mat_final_mult, var_std, Spanish, std_esp_inicial, Closeness, Inst_help, Conflict, std_inicial_alegria_score, std_final_alegria_score, std_inicial_apreciacion_escuela_score, std_final_apreciacion_escuela_score, std_inicial_autoestima_score, std_final_autoestima_score, std_inicial_autonomia_score, std_final_autonomia_score, std_inicial_conciencia_emoc_score, std_final_conciencia_emoc_score, std_inicial_creencias_previas_score, std_final_creencias_previas_score, std_inicial_empatia_score, std_final_empatia_score, std_inicial_familia_score, std_final_familia_score, std_inicial_gratitud_score, std_final_gratitud_score, std_inicial_growth_mindset_score, std_final_growth_mindset_score, std_inicial_locus_control_score, std_final_locus_control_score, std_inicial_resiliencia_score, std_final_resiliencia_score, std_inicial_soledad_covid_score, std_final_soledad_covid_score, ChangeMathScore, ChangeMathOpen, ChangeMathPCA, ChangeSpanish, Changestd_final_alegria_score, Changestd_final_apreciacion_escuela_score, Changestd_final_autoestima_score, Changestd_final_autonomia_score, Changestd_final_conciencia_emoc_score, Changestd_final_creencias_previas_score, Changestd_final_empatia_score, Changestd_final_familia_score, Changestd_final_gratitud_score, Changestd_final_growth_mindset_score, Changestd_final_locus_control_score, Changestd_final_resiliencia_score, Changestd_final_soledad_covid_score'"
      ]
     },
     "execution_count": 59,
     "metadata": {},
     "output_type": "execute_result"
    }
   ],
   "source": [
    "\", \".join(bt.columns)"
   ]
  },
  {
   "cell_type": "code",
   "execution_count": null,
   "metadata": {},
   "outputs": [],
   "source": [
    "[~pd.isna(bt.score_mat_final)]"
   ]
  },
  {
   "cell_type": "code",
   "execution_count": 140,
   "metadata": {},
   "outputs": [],
   "source": [
    "#base you can use\n",
    "#prefijo: group kid was assigned to, matches with values on dict_files\n",
    "#ChangeMathScore: change in math score\n",
    "#score_mat_inicial: initial math score (raw)\n",
    "#score_mat_final: final math score (raw)\n",
    "#tel_mas_confiable: if >0, it a class identifier\n",
    "#MathScore: Final math score (standardized at grade level)\n",
    "#std_mat_inicial: Initial math score (standardized at grade level)\n",
    "#tratamiento: 1: control, 2: math, 3: math + emotional learning, 4: math\n",
    "\n",
    "some_vars=bt[[\"ChangeMathScore\", \"score_mat_inicial\", \"score_mat_final\", \"tel_mas_confiable\", \"MathScore\", \"std_mat_inicial\", \"tratamiento\", \"prefijo\"]]\n",
    "some_vars = some_vars[~some_vars['prefijo'].isna()]"
   ]
  },
  {
   "cell_type": "code",
   "execution_count": 141,
   "metadata": {},
   "outputs": [],
   "source": [
    "filenames_df = pd.DataFrame(filenames, columns=['file'])\n",
    "filenames_df['prefijo'] = filenames_df['file'].map(dict_files)\n",
    "filenames_df = filenames_df.dropna()\n",
    "some_vars = some_vars[~some_vars['prefijo'].isna()]\n",
    "# some_vars.set_index('prefijo', inplace=True)\n"
   ]
  },
  {
   "cell_type": "code",
   "execution_count": 142,
   "metadata": {},
   "outputs": [],
   "source": [
    "rows= []\n",
    "for prefijo in filenames_df['prefijo']:\n",
    "    if prefijo in some_vars.index:\n",
    "        rows.append(some_vars.loc[prefijo].iloc[0])\n",
    "    else:\n",
    "        rows.append(pd.Series([None]*len(some_vars.columns), index=some_vars.columns))"
   ]
  },
  {
   "cell_type": "code",
   "execution_count": null,
   "metadata": {},
   "outputs": [],
   "source": []
  },
  {
   "cell_type": "code",
   "execution_count": 169,
   "metadata": {},
   "outputs": [
    {
     "data": {
      "text/plain": [
       "(608,\n",
       " nan,\n",
       " nan,\n",
       " nan,\n",
       " 6461171260,\n",
       " nan,\n",
       " nan,\n",
       " 2.0,\n",
       " 'JN137',\n",
       " 1,\n",
       " '9885_5990_2021-05-11_tutoria9.mp4',\n",
       " 'JN137')"
      ]
     },
     "execution_count": 169,
     "metadata": {},
     "output_type": "execute_result"
    }
   ],
   "source": [
    "varrow+filerow"
   ]
  },
  {
   "cell_type": "code",
   "execution_count": 168,
   "metadata": {},
   "outputs": [
    {
     "data": {
      "text/plain": [
       "10"
      ]
     },
     "execution_count": 168,
     "metadata": {},
     "output_type": "execute_result"
    }
   ],
   "source": [
    "len(list(some_vars.columns)+list(filenames_df.columns))"
   ]
  },
  {
   "cell_type": "code",
   "execution_count": 170,
   "metadata": {},
   "outputs": [],
   "source": [
    "connected_rows = []\n",
    "for varrow in some_vars.itertuples():\n",
    "    for filerow in filenames_df.itertuples():\n",
    "        if filerow.prefijo==varrow.prefijo:\n",
    "            connected_rows.append(pd.Series(varrow+filerow, index = ['index1'] + list(some_vars.columns)+['index2']+list(filenames_df.columns)))"
   ]
  },
  {
   "cell_type": "code",
   "execution_count": 176,
   "metadata": {},
   "outputs": [],
   "source": [
    "results_with_file = pd.concat(connected_rows, axis = 1).T"
   ]
  },
  {
   "cell_type": "code",
   "execution_count": 182,
   "metadata": {},
   "outputs": [],
   "source": [
    "results_with_file = results_with_file.drop(['index1','index2'], axis=1)"
   ]
  },
  {
   "cell_type": "code",
   "execution_count": 183,
   "metadata": {},
   "outputs": [],
   "source": [
    "results_with_file.to_csv('../data/reponse_var.csv', index=False)"
   ]
  },
  {
   "cell_type": "code",
   "execution_count": 51,
   "metadata": {},
   "outputs": [],
   "source": []
  },
  {
   "cell_type": "code",
   "execution_count": null,
   "metadata": {},
   "outputs": [],
   "source": []
  }
 ],
 "metadata": {
  "kernelspec": {
   "display_name": "Python 3",
   "language": "python",
   "name": "python3"
  },
  "language_info": {
   "codemirror_mode": {
    "name": "ipython",
    "version": 3
   },
   "file_extension": ".py",
   "mimetype": "text/x-python",
   "name": "python",
   "nbconvert_exporter": "python",
   "pygments_lexer": "ipython3",
   "version": "3.8.9"
  }
 },
 "nbformat": 4,
 "nbformat_minor": 4
}
